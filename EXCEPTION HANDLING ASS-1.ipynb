{
 "cells": [
  {
   "cell_type": "markdown",
   "id": "80d72bfe",
   "metadata": {},
   "source": [
    "### 1.`What is an exception in python? write the difference between exceptions and syntax error?`"
   ]
  },
  {
   "cell_type": "markdown",
   "id": "69837dd9",
   "metadata": {},
   "source": [
    "### Ans:- __When an exception occurs, the program stops executing its current sequence of instructions and looks for a special block of code called an \"exception handler\" or \"exception block\" that can handle the specific type of exception. If a suitable exception handler is found, the program can continue executing without crashing.__\n",
    "\n",
    "\n",
    "\n",
    "\n",
    "\n",
    "\n",
    "Difference b/w Exceptions and Syntax error:---\n",
    "\n",
    "\n",
    "           Exceptions                                                                 Syntax Error\n",
    "\n",
    "1 Occur during the execution of a program.                    1.OCCURbefore the program is executed, during the parsing stage\n",
    "\n",
    "\n",
    "\n",
    "\n",
    "2 Example exceptions include ZeroDivisionError,              2 Examples include missing colons, incorrect indentation, \n",
    "   TypeError, FileNotFoundError, etc.                                 incorrect function calls, etc.\n",
    "   \n",
    "\n",
    "\n",
    "\n",
    "3.Can be caught and handled using try and except blocks       3.The program will not execute until syntax errors are resolved.\n",
    "\n",
    "\n",
    "\n",
    " \n",
    "4.                                                            4.  Must be fixed before the program is run\n",
    "\n",
    "\n"
   ]
  },
  {
   "cell_type": "markdown",
   "id": "d5e16508",
   "metadata": {},
   "source": [
    "## `2.what happens when an exception is not handled in python? Explain with an example.`"
   ]
  },
  {
   "cell_type": "markdown",
   "id": "0d349930",
   "metadata": {},
   "source": [
    "Ans:- What happens if an exception is not handled?\n",
    "If an exception is not handled (with a catch block), the runtime system will abort the program (i.e. crash) and an exception message will print to the console. The message typically includes: name of exception type."
   ]
  },
  {
   "cell_type": "code",
   "execution_count": 8,
   "id": "1a4d137c",
   "metadata": {},
   "outputs": [
    {
     "ename": "ZeroDivisionError",
     "evalue": "division by zero",
     "output_type": "error",
     "traceback": [
      "\u001b[1;31m---------------------------------------------------------------------------\u001b[0m",
      "\u001b[1;31mZeroDivisionError\u001b[0m                         Traceback (most recent call last)",
      "Cell \u001b[1;32mIn[8], line 8\u001b[0m\n\u001b[0;32m      6\u001b[0m numerator \u001b[38;5;241m=\u001b[39m \u001b[38;5;241m10\u001b[39m\n\u001b[0;32m      7\u001b[0m denominator \u001b[38;5;241m=\u001b[39m \u001b[38;5;241m0\u001b[39m\n\u001b[1;32m----> 8\u001b[0m result \u001b[38;5;241m=\u001b[39m \u001b[43mdivide\u001b[49m\u001b[43m(\u001b[49m\u001b[43mnumerator\u001b[49m\u001b[43m,\u001b[49m\u001b[43m \u001b[49m\u001b[43mdenominator\u001b[49m\u001b[43m)\u001b[49m\n\u001b[0;32m      9\u001b[0m \u001b[38;5;28mprint\u001b[39m(result)\n",
      "Cell \u001b[1;32mIn[8], line 4\u001b[0m, in \u001b[0;36mdivide\u001b[1;34m(a, b)\u001b[0m\n\u001b[0;32m      3\u001b[0m \u001b[38;5;28;01mdef\u001b[39;00m \u001b[38;5;21mdivide\u001b[39m(a, b):\n\u001b[1;32m----> 4\u001b[0m     \u001b[38;5;28;01mreturn\u001b[39;00m \u001b[43ma\u001b[49m\u001b[43m \u001b[49m\u001b[38;5;241;43m/\u001b[39;49m\u001b[43m \u001b[49m\u001b[43mb\u001b[49m\n",
      "\u001b[1;31mZeroDivisionError\u001b[0m: division by zero"
     ]
    }
   ],
   "source": [
    "\"\"\"Here a some example of Exception handled\"\"\"\n",
    "\n",
    "def divide(a, b):\n",
    "    return a / b\n",
    "\n",
    "numerator = 10\n",
    "denominator = 0\n",
    "result = divide(numerator, denominator)\n",
    "print(result)"
   ]
  },
  {
   "cell_type": "markdown",
   "id": "cd943f49",
   "metadata": {},
   "source": [
    "- Inside the divide function, a division by zero occurred, leading to a ZeroDivisionError exception being raised.\n",
    "\n",
    "\n",
    "- Since the exception was not handled within the code, the program terminated immediately.\n",
    "\n",
    "\n",
    "- Without using Try and Exception block will give you Error.\n"
   ]
  },
  {
   "cell_type": "code",
   "execution_count": 9,
   "id": "d955bcf2",
   "metadata": {},
   "outputs": [
    {
     "name": "stdout",
     "output_type": "stream",
     "text": [
      "Cannot divide by zero\n"
     ]
    }
   ],
   "source": [
    "def divide(a, b):\n",
    "    try:\n",
    "        return a / b\n",
    "    except ZeroDivisionError:\n",
    "        return \"Cannot divide by zero\"\n",
    "\n",
    "numerator = 10\n",
    "denominator = 0\n",
    "result = divide(numerator, denominator)\n",
    "print(result)"
   ]
  },
  {
   "cell_type": "code",
   "execution_count": null,
   "id": "685dac5e",
   "metadata": {},
   "outputs": [],
   "source": []
  },
  {
   "cell_type": "code",
   "execution_count": null,
   "id": "47853306",
   "metadata": {},
   "outputs": [],
   "source": []
  },
  {
   "cell_type": "code",
   "execution_count": 10,
   "id": "ab137d05",
   "metadata": {},
   "outputs": [
    {
     "ename": "TypeError",
     "evalue": "unsupported operand type(s) for +: 'int' and 'str'",
     "output_type": "error",
     "traceback": [
      "\u001b[1;31m---------------------------------------------------------------------------\u001b[0m",
      "\u001b[1;31mTypeError\u001b[0m                                 Traceback (most recent call last)",
      "Cell \u001b[1;32mIn[10], line 3\u001b[0m\n\u001b[0;32m      1\u001b[0m x \u001b[38;5;241m=\u001b[39m \u001b[38;5;241m5\u001b[39m\n\u001b[0;32m      2\u001b[0m y \u001b[38;5;241m=\u001b[39m \u001b[38;5;124m\"\u001b[39m\u001b[38;5;124mhello\u001b[39m\u001b[38;5;124m\"\u001b[39m\n\u001b[1;32m----> 3\u001b[0m z \u001b[38;5;241m=\u001b[39m \u001b[43mx\u001b[49m\u001b[43m \u001b[49m\u001b[38;5;241;43m+\u001b[39;49m\u001b[43m \u001b[49m\u001b[43my\u001b[49m\n",
      "\u001b[1;31mTypeError\u001b[0m: unsupported operand type(s) for +: 'int' and 'str'"
     ]
    }
   ],
   "source": [
    "x = 5\n",
    "y = \"hello\"\n",
    "z = x + y  "
   ]
  },
  {
   "cell_type": "markdown",
   "id": "d891c7a5",
   "metadata": {},
   "source": [
    "We cannot concatinate x and y because one of intger and another one is string form.\n",
    "\n",
    "TypeError: unsupported operand type(s) for +: 'int' and 'str'\n",
    "\n",
    "\n",
    "# But If I use exception handling here what happend:"
   ]
  },
  {
   "cell_type": "code",
   "execution_count": null,
   "id": "346cbd50",
   "metadata": {},
   "outputs": [],
   "source": [
    "x = 5\n",
    "y = \"hello\"\n",
    "try:\n",
    "    z = x + y\n",
    "except TypeError:\n",
    "    print(\"Error: cannot add an int and a str\")"
   ]
  },
  {
   "cell_type": "markdown",
   "id": "bbbaae06",
   "metadata": {},
   "source": [
    "`With using Try and Exception Handling`"
   ]
  },
  {
   "cell_type": "code",
   "execution_count": null,
   "id": "50e341ad",
   "metadata": {},
   "outputs": [],
   "source": []
  },
  {
   "cell_type": "markdown",
   "id": "6c3b484f",
   "metadata": {},
   "source": [
    "## 3.`Which python statements are used to catch and handle exceptions? Explain an example`.\n"
   ]
  },
  {
   "cell_type": "markdown",
   "id": "2eb489e8",
   "metadata": {},
   "source": [
    "Ans:--In Python, the try and except statements are used to catch and handle exceptions. The try block contains the code that might raise an exception, and the except block contains the code that handles the exception if it occurs"
   ]
  },
  {
   "cell_type": "code",
   "execution_count": 11,
   "id": "e1206b49",
   "metadata": {},
   "outputs": [
    {
     "name": "stdout",
     "output_type": "stream",
     "text": [
      "Cannot divide by zero\n"
     ]
    }
   ],
   "source": [
    "def divide(a, b):\n",
    "    try:\n",
    "        return a / b\n",
    "    except ZeroDivisionError:\n",
    "        return \"Cannot divide by zero\"\n",
    "\n",
    "numerator = 10\n",
    "denominator = 0\n",
    "result = divide(numerator, denominator)\n",
    "print(result)"
   ]
  },
  {
   "cell_type": "markdown",
   "id": "ed816dba",
   "metadata": {},
   "source": [
    "## `__In this example, the divide function attempts to perform division within the try block. If a ZeroDivisionError occurs during the division (i.e., when denominator is 0), the program will not crash. Instead, it will execute the code within the except block, which returns the custom error message \"Cannot divide by zero__'."
   ]
  },
  {
   "cell_type": "markdown",
   "id": "efc94ca0",
   "metadata": {},
   "source": [
    "# Q4. _Explain with an Example_.\n",
    "# a.try and else\n",
    "# b.finally\n",
    "# c.raise"
   ]
  },
  {
   "cell_type": "markdown",
   "id": "36128e0f",
   "metadata": {},
   "source": [
    "# a. Try and Else:- "
   ]
  },
  {
   "cell_type": "code",
   "execution_count": 12,
   "id": "31a25ad6",
   "metadata": {},
   "outputs": [
    {
     "name": "stdout",
     "output_type": "stream",
     "text": [
      "this will be executed once your try will execute without error\n"
     ]
    }
   ],
   "source": [
    "try:\n",
    "    f =open(\"test1.txt\",\"w\")\n",
    "    f.write(\"write into my files\")\n",
    "except Exception as e : \n",
    "    print(\"this is my except block\", e)\n",
    "    \n",
    "else:\n",
    "    f.close()\n",
    "    print(\"this will be executed once your try will execute without error\")\n",
    "    "
   ]
  },
  {
   "cell_type": "code",
   "execution_count": 13,
   "id": "d67e17e4",
   "metadata": {},
   "outputs": [
    {
     "name": "stdout",
     "output_type": "stream",
     "text": [
      "0.1111111111111111\n"
     ]
    }
   ],
   "source": [
    "def divide(a, b):\n",
    "    try:\n",
    "        result = a / b\n",
    "    except ZeroDivisionError:\n",
    "        return \"Cannot divide by zero\"\n",
    "    else:\n",
    "        return result\n",
    "\n",
    "numerator = 10\n",
    "denominator = 90\n",
    "result = divide(numerator, denominator)\n",
    "print(result)\n"
   ]
  },
  {
   "cell_type": "code",
   "execution_count": null,
   "id": "8dec4455",
   "metadata": {},
   "outputs": [],
   "source": []
  },
  {
   "cell_type": "code",
   "execution_count": 14,
   "id": "dc8f6763",
   "metadata": {},
   "outputs": [
    {
     "name": "stdout",
     "output_type": "stream",
     "text": [
      "Enter a number \n"
     ]
    },
    {
     "ename": "ValueError",
     "evalue": "could not convert string to float: ''",
     "output_type": "error",
     "traceback": [
      "\u001b[1;31m---------------------------------------------------------------------------\u001b[0m",
      "\u001b[1;31mValueError\u001b[0m                                Traceback (most recent call last)",
      "Cell \u001b[1;32mIn[14], line 11\u001b[0m\n\u001b[0;32m      8\u001b[0m     \u001b[38;5;28;01melse\u001b[39;00m:\n\u001b[0;32m      9\u001b[0m         \u001b[38;5;28;01mreturn\u001b[39;00m result\n\u001b[1;32m---> 11\u001b[0m number \u001b[38;5;241m=\u001b[39m \u001b[38;5;28;43mfloat\u001b[39;49m\u001b[43m(\u001b[49m\u001b[38;5;28;43minput\u001b[39;49m\u001b[43m(\u001b[49m\u001b[38;5;124;43m\"\u001b[39;49m\u001b[38;5;124;43mEnter a number \u001b[39;49m\u001b[38;5;124;43m\"\u001b[39;49m\u001b[43m)\u001b[49m\u001b[43m)\u001b[49m\n\u001b[0;32m     12\u001b[0m result \u001b[38;5;241m=\u001b[39m calculate_square_root(number)\n\u001b[0;32m     13\u001b[0m \u001b[38;5;28mprint\u001b[39m(result)\n",
      "\u001b[1;31mValueError\u001b[0m: could not convert string to float: ''"
     ]
    }
   ],
   "source": [
    "import math\n",
    "\n",
    "def calculate_square_root(num):\n",
    "    try:\n",
    "        result = math.sqrt(num)\n",
    "    except ValueError:\n",
    "        return (\"Cannot calculate square root of a negative number\")\n",
    "    else:\n",
    "        return result\n",
    "\n",
    "number = float(input(\"Enter a number \"))\n",
    "result = calculate_square_root(number)\n",
    "print(result)\n"
   ]
  },
  {
   "cell_type": "code",
   "execution_count": null,
   "id": "ec117107",
   "metadata": {},
   "outputs": [],
   "source": []
  },
  {
   "cell_type": "markdown",
   "id": "acd73f94",
   "metadata": {},
   "source": [
    "# b. finally"
   ]
  },
  {
   "cell_type": "code",
   "execution_count": null,
   "id": "8996b700",
   "metadata": {},
   "outputs": [],
   "source": [
    "def divide(a, b):\n",
    "    try:\n",
    "        result = a / b\n",
    "    except ZeroDivisionError:\n",
    "        return (\"Cannot divide by zero\")\n",
    "    finally:\n",
    "        print(\"Division operation completed\")\n",
    "\n",
    "numerator = 10\n",
    "denominator = 0\n",
    "\n",
    "result = divide(numerator, denominator)\n",
    "print(result)\n"
   ]
  },
  {
   "cell_type": "code",
   "execution_count": null,
   "id": "cc2cc892",
   "metadata": {},
   "outputs": [],
   "source": [
    "def divide(a, b):\n",
    "    try:\n",
    "        result = a / b\n",
    "    except ZeroDivisionError:\n",
    "        return (\"Cannot divide by zero\")\n",
    "    else:\n",
    "        return result\n",
    "    finally:\n",
    "        print(\"Division operation completed\")\n",
    "\n",
    "numerator = 10\n",
    "denominator = 6\n",
    "result = divide(numerator, denominator)\n",
    "print(result)\n"
   ]
  },
  {
   "cell_type": "markdown",
   "id": "53673999",
   "metadata": {},
   "source": [
    "## __C. Raise__"
   ]
  },
  {
   "cell_type": "code",
   "execution_count": 15,
   "id": "73902809",
   "metadata": {},
   "outputs": [
    {
     "name": "stdout",
     "output_type": "stream",
     "text": [
      "Enter your username: \n",
      "Enter your password: \n",
      "Login error: Password is too short\n"
     ]
    }
   ],
   "source": [
    "def login(username, password):\n",
    "    MIN_PASSWORD_LENGTH = 8\n",
    "    \n",
    "    if len(password) < MIN_PASSWORD_LENGTH:\n",
    "        raise ValueError(\"Password is too short\")\n",
    "    \n",
    "    # Simulate the rest of the login process\n",
    "    return f\"Welcome, {username}!\"\n",
    "\n",
    "try:\n",
    "    username = input(\"Enter your username: \")\n",
    "    password = input(\"Enter your password: \")\n",
    "    result = login(username, password)\n",
    "    print(result)\n",
    "except ValueError as e:\n",
    "     print(f\"Login error: {e}\")\n"
   ]
  },
  {
   "cell_type": "code",
   "execution_count": 16,
   "id": "d652f9fe",
   "metadata": {},
   "outputs": [
    {
     "name": "stdout",
     "output_type": "stream",
     "text": [
      "Enter a number: \n",
      "Error: invalid literal for int() with base 10: ''\n"
     ]
    }
   ],
   "source": [
    "def calculate_square_root(num):\n",
    "    if num < 0:\n",
    "        raise ValueError(\"Cannot calculate square root of a negative number\")\n",
    "    return num ** 0.5\n",
    "\n",
    "try:\n",
    "    number = int(input(\"Enter a number: \"))\n",
    "    result = calculate_square_root(number)\n",
    "    print(\"Square root:\", result)\n",
    "except ValueError as e:\n",
    "    print(f\"Error: {e}\")\n"
   ]
  },
  {
   "cell_type": "code",
   "execution_count": null,
   "id": "9cf0728b",
   "metadata": {},
   "outputs": [],
   "source": []
  },
  {
   "cell_type": "markdown",
   "id": "a6552262",
   "metadata": {},
   "source": [
    "__5.What are Custom Exceptions in python? Why do we need Custom Exceptions?Explain with an example.__"
   ]
  },
  {
   "cell_type": "markdown",
   "id": "baf3375d",
   "metadata": {},
   "source": [
    "Ans:-To create a custom exception, you define a new class that inherits from the base Exception class or any of its subclasses.\n",
    "\n",
    "\n",
    "\n",
    "### `We need custom Exceptions because`\n",
    "By creating a hierarchy of custom exceptions, you can group related exceptions together and handle them more efficiently using a common base exception class.\n",
    "\n",
    "\n",
    "When you have specific error-handling logic for certain scenarios, custom exceptions can make it easier to differentiate and handle these cases."
   ]
  },
  {
   "cell_type": "code",
   "execution_count": 20,
   "id": "198868b7",
   "metadata": {},
   "outputs": [],
   "source": [
    "class Error(Exception):\n",
    "    pass\n",
    "\n",
    "class dobExcpetion(Error):\n",
    "    pass"
   ]
  },
  {
   "cell_type": "code",
   "execution_count": 21,
   "id": "4626b4ca",
   "metadata": {},
   "outputs": [
    {
     "name": "stdout",
     "output_type": "stream",
     "text": [
      "Enter the year of Birth 2000\n",
      "The age is not within the range.you cannot apply for the exams \n"
     ]
    }
   ],
   "source": [
    "year = int(input(\"Enter the year of Birth \"))\n",
    "age =2023-year\n",
    "try:\n",
    "    if age<=30 & age>20:\n",
    "        print(\"The age is valid. You can apply for the exams\")\n",
    "    else:\n",
    "        raise dobExcpetion\n",
    "        \n",
    "except dobExcpetion:\n",
    "    print(\"The age is not within the range.you cannot apply for the exams \")"
   ]
  },
  {
   "cell_type": "code",
   "execution_count": null,
   "id": "6fc2c3c3",
   "metadata": {},
   "outputs": [],
   "source": []
  },
  {
   "cell_type": "markdown",
   "id": "94647b45",
   "metadata": {},
   "source": [
    "## 6. `Create a custom exception class. Use this class to handle an exception`."
   ]
  },
  {
   "cell_type": "code",
   "execution_count": 22,
   "id": "b8113bcd",
   "metadata": {},
   "outputs": [
    {
     "name": "stdout",
     "output_type": "stream",
     "text": [
      "enter your age23\n"
     ]
    }
   ],
   "source": [
    "age = int(input(\"enter your age\"))"
   ]
  },
  {
   "cell_type": "code",
   "execution_count": 23,
   "id": "b016f9e1",
   "metadata": {},
   "outputs": [],
   "source": [
    "class validateage(Exception):\n",
    "    \n",
    "    def __init__(self,msg):\n",
    "        self.msg = msg"
   ]
  },
  {
   "cell_type": "code",
   "execution_count": 24,
   "id": "4261956a",
   "metadata": {},
   "outputs": [],
   "source": [
    "def validateage(age):\n",
    "    if age<0:\n",
    "        raise validateage(\"entered age is negative \" )\n",
    "    elif age> 200:\n",
    "        raise validateage(\"entered age is very very high \")\n",
    "    else:\n",
    "        print(\"age is valid\")"
   ]
  },
  {
   "cell_type": "code",
   "execution_count": 29,
   "id": "050ef96f",
   "metadata": {},
   "outputs": [
    {
     "name": "stdout",
     "output_type": "stream",
     "text": [
      "enter your age 20\n",
      "age is valid\n"
     ]
    }
   ],
   "source": [
    "try:\n",
    "    age = int(input(\"enter your age \"))\n",
    "    validateage(age)\n",
    "except validateage as e:\n",
    "    print(e)\n",
    "   "
   ]
  },
  {
   "cell_type": "code",
   "execution_count": null,
   "id": "2e9b87db",
   "metadata": {},
   "outputs": [],
   "source": []
  }
 ],
 "metadata": {
  "kernelspec": {
   "display_name": "Python 3 (ipykernel)",
   "language": "python",
   "name": "python3"
  },
  "language_info": {
   "codemirror_mode": {
    "name": "ipython",
    "version": 3
   },
   "file_extension": ".py",
   "mimetype": "text/x-python",
   "name": "python",
   "nbconvert_exporter": "python",
   "pygments_lexer": "ipython3",
   "version": "3.9.12"
  }
 },
 "nbformat": 4,
 "nbformat_minor": 5
}
